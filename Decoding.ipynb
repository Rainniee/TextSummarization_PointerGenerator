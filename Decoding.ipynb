{
  "nbformat": 4,
  "nbformat_minor": 0,
  "metadata": {
    "colab": {
      "name": "Decoding.ipynb",
      "version": "0.3.2",
      "provenance": [],
      "collapsed_sections": [],
      "include_colab_link": true
    },
    "kernelspec": {
      "name": "python3",
      "display_name": "Python 3"
    },
    "accelerator": "GPU"
  },
  "cells": [
    {
      "cell_type": "markdown",
      "metadata": {
        "id": "view-in-github",
        "colab_type": "text"
      },
      "source": [
        "<a href=\"https://colab.research.google.com/github/Adhira-Deogade/TextSummarization_PointerGenerator/blob/master/Decoding.ipynb\" target=\"_parent\"><img src=\"https://colab.research.google.com/assets/colab-badge.svg\" alt=\"Open In Colab\"/></a>"
      ]
    },
    {
      "metadata": {
        "id": "VPZ8tzfaflmY",
        "colab_type": "code",
        "colab": {}
      },
      "cell_type": "code",
      "source": [
        ""
      ],
      "execution_count": 0,
      "outputs": []
    },
    {
      "metadata": {
        "id": "HPIUdRqIKHmv",
        "colab_type": "code",
        "colab": {}
      },
      "cell_type": "code",
      "source": [
        ""
      ],
      "execution_count": 0,
      "outputs": []
    },
    {
      "metadata": {
        "id": "yg_ywbeCBjPK",
        "colab_type": "code",
        "colab": {}
      },
      "cell_type": "code",
      "source": [
        ""
      ],
      "execution_count": 0,
      "outputs": []
    },
    {
      "metadata": {
        "id": "Y926-Q4j6RTD",
        "colab_type": "code",
        "outputId": "b64eb490-dc8b-4b5a-d885-905be5fd4629",
        "colab": {
          "base_uri": "https://localhost:8080/",
          "height": 34
        }
      },
      "cell_type": "code",
      "source": [
        "!ls"
      ],
      "execution_count": 1,
      "outputs": [
        {
          "output_type": "stream",
          "text": [
            "adc.json  Drive  My  sample_data  summary_final\n"
          ],
          "name": "stdout"
        }
      ]
    },
    {
      "metadata": {
        "id": "FKh0CLxs6WQ6",
        "colab_type": "code",
        "outputId": "a5315b32-dfc7-4a66-f39d-6f8525604eb7",
        "colab": {
          "base_uri": "https://localhost:8080/",
          "height": 34
        }
      },
      "cell_type": "code",
      "source": [
        "cd Drive/TScodes/seungwonpark/pointer-generator/"
      ],
      "execution_count": 2,
      "outputs": [
        {
          "output_type": "stream",
          "text": [
            "/content/Drive/TScodes/seungwonpark/pointer-generator\n"
          ],
          "name": "stdout"
        }
      ]
    },
    {
      "metadata": {
        "id": "YpxUuaBZ6mSc",
        "colab_type": "code",
        "colab": {}
      },
      "cell_type": "code",
      "source": [
        "ls"
      ],
      "execution_count": 0,
      "outputs": []
    },
    {
      "metadata": {
        "id": "i8g3kkbO6nSp",
        "colab_type": "code",
        "colab": {}
      },
      "cell_type": "code",
      "source": [
        "!python run_summarization.py --mode=train --data_path=/content/Drive/TS/TS/stanford-corenlp-full-2018-10-05/dataFiles/test_processed/train.bin --vocab_path=/content/Drive/TS/TS/stanford-corenlp-full-2018-10-05/dataFiles/test_processed/vocab --log_root=/content/Drive/TS/TS/stanford-corenlp-full-2018-10-05/dataFiles/test_processed/seung/log/directory --exp_name=myexperiment"
      ],
      "execution_count": 0,
      "outputs": []
    },
    {
      "metadata": {
        "id": "-qeR7IDj7CDZ",
        "colab_type": "code",
        "colab": {}
      },
      "cell_type": "code",
      "source": [
        "!python run_summarization.py --mode=eval --data_path=/content/Drive/TS/TS/stanford-corenlp-full-2018-10-05/dataFiles/test_processed/validation.bin --vocab_path=/content/Drive/TS/TS/stanford-corenlp-full-2018-10-05/dataFiles/test_processed/vocab --log_root=/content/Drive/TS/TS/stanford-corenlp-full-2018-10-05/dataFiles/test_processed/seung/log/directory --exp_name=myexperiment"
      ],
      "execution_count": 0,
      "outputs": []
    },
    {
      "metadata": {
        "id": "qPSLABLFUKpn",
        "colab_type": "code",
        "colab": {}
      },
      "cell_type": "code",
      "source": [
        "!python decode.py"
      ],
      "execution_count": 0,
      "outputs": []
    },
    {
      "metadata": {
        "id": "YtDj1ZWaUrs9",
        "colab_type": "code",
        "outputId": "a8888548-423c-4d2d-e46a-16f36a217ac1",
        "colab": {
          "base_uri": "https://localhost:8080/",
          "height": 1210
        }
      },
      "cell_type": "code",
      "source": [
        "!python run_summarization.py --mode=decode --data_path=/content/Drive/TS/TS/stanford-corenlp-full-2018-10-05/dataFiles/test_processed/validation.bin --vocab_path=/content/Drive/TS/TS/stanford-corenlp-full-2018-10-05/dataFiles/test_processed/vocab --log_root=/content/Drive/TS/TS/stanford-corenlp-full-2018-10-05/dataFiles/test_processed/seung/log/directory --exp_name=myexperiment --single_pass=1"
      ],
      "execution_count": 3,
      "outputs": [
        {
          "output_type": "stream",
          "text": [
            "INFO:tensorflow:Starting seq2seq_attention in decode mode...\n",
            "Finished constructing vocabulary of 2004 total words. Last word added: painter\n",
            "INFO:tensorflow:Building graph...\n",
            "example_generator completed reading all datafiles. No more data.\n",
            "INFO:tensorflow:The example generator for this example queue filling thread has exhausted data.\n",
            "INFO:tensorflow:single_pass mode is on, so we've finished reading dataset. This thread is stopping.\n",
            "WARNING:tensorflow:From /usr/local/lib/python3.6/dist-packages/tensorflow/python/framework/op_def_library.py:263: colocate_with (from tensorflow.python.framework.ops) is deprecated and will be removed in a future version.\n",
            "Instructions for updating:\n",
            "Colocations handled automatically by placer.\n",
            "WARNING:tensorflow:From /content/Drive/TScodes/seungwonpark/pointer-generator/model.py:95: LSTMCell.__init__ (from tensorflow.python.ops.rnn_cell_impl) is deprecated and will be removed in a future version.\n",
            "Instructions for updating:\n",
            "This class is equivalent as tf.keras.layers.LSTMCell, and will be replaced by that in Tensorflow 2.0.\n",
            "WARNING:tensorflow:From /content/Drive/TScodes/seungwonpark/pointer-generator/model.py:97: bidirectional_dynamic_rnn (from tensorflow.python.ops.rnn) is deprecated and will be removed in a future version.\n",
            "Instructions for updating:\n",
            "Please use `keras.layers.Bidirectional(keras.layers.RNN(cell))`, which is equivalent to this API\n",
            "WARNING:tensorflow:From /usr/local/lib/python3.6/dist-packages/tensorflow/python/ops/rnn.py:443: dynamic_rnn (from tensorflow.python.ops.rnn) is deprecated and will be removed in a future version.\n",
            "Instructions for updating:\n",
            "Please use `keras.layers.RNN(cell)`, which is equivalent to this API\n",
            "WARNING:tensorflow:From /usr/local/lib/python3.6/dist-packages/tensorflow/python/ops/rnn.py:626: to_int32 (from tensorflow.python.ops.math_ops) is deprecated and will be removed in a future version.\n",
            "Instructions for updating:\n",
            "Use tf.cast instead.\n",
            "INFO:tensorflow:Adding attention_decoder timestep 0 of 1\n",
            "INFO:tensorflow:Time to build graph: 0 seconds\n",
            "2019-04-09 00:35:47.768608: I tensorflow/core/platform/profile_utils/cpu_utils.cc:94] CPU Frequency: 2300000000 Hz\n",
            "2019-04-09 00:35:47.768920: I tensorflow/compiler/xla/service/service.cc:150] XLA service 0x2f5de40 executing computations on platform Host. Devices:\n",
            "2019-04-09 00:35:47.768967: I tensorflow/compiler/xla/service/service.cc:158]   StreamExecutor device (0): <undefined>, <undefined>\n",
            "2019-04-09 00:35:47.885805: I tensorflow/stream_executor/cuda/cuda_gpu_executor.cc:998] successful NUMA node read from SysFS had negative value (-1), but there must be at least one NUMA node, so returning NUMA node zero\n",
            "2019-04-09 00:35:47.886492: I tensorflow/compiler/xla/service/service.cc:150] XLA service 0x2f5f2e0 executing computations on platform CUDA. Devices:\n",
            "2019-04-09 00:35:47.886534: I tensorflow/compiler/xla/service/service.cc:158]   StreamExecutor device (0): Tesla K80, Compute Capability 3.7\n",
            "2019-04-09 00:35:47.886934: I tensorflow/core/common_runtime/gpu/gpu_device.cc:1433] Found device 0 with properties: \n",
            "name: Tesla K80 major: 3 minor: 7 memoryClockRate(GHz): 0.8235\n",
            "pciBusID: 0000:00:04.0\n",
            "totalMemory: 11.17GiB freeMemory: 11.10GiB\n",
            "2019-04-09 00:35:47.886971: I tensorflow/core/common_runtime/gpu/gpu_device.cc:1512] Adding visible gpu devices: 0\n",
            "2019-04-09 00:35:48.312336: I tensorflow/core/common_runtime/gpu/gpu_device.cc:984] Device interconnect StreamExecutor with strength 1 edge matrix:\n",
            "2019-04-09 00:35:48.312439: I tensorflow/core/common_runtime/gpu/gpu_device.cc:990]      0 \n",
            "2019-04-09 00:35:48.312462: I tensorflow/core/common_runtime/gpu/gpu_device.cc:1003] 0:   N \n",
            "2019-04-09 00:35:48.312821: I tensorflow/core/common_runtime/gpu/gpu_device.cc:1115] Created TensorFlow device (/job:localhost/replica:0/task:0/device:GPU:0 with 10754 MB memory) -> physical GPU (device: 0, name: Tesla K80, pci bus id: 0000:00:04.0, compute capability: 3.7)\n",
            "INFO:tensorflow:Loading checkpoint /content/Drive/TS/TS/stanford-corenlp-full-2018-10-05/dataFiles/test_processed/seung/log/directory/myexperiment/train/model.ckpt-5880\n",
            "WARNING:tensorflow:From /usr/local/lib/python3.6/dist-packages/tensorflow/python/training/saver.py:1266: checkpoint_exists (from tensorflow.python.training.checkpoint_management) is deprecated and will be removed in a future version.\n",
            "Instructions for updating:\n",
            "Use standard file APIs to check for files with this prefix.\n",
            "INFO:tensorflow:Restoring parameters from /content/Drive/TS/TS/stanford-corenlp-full-2018-10-05/dataFiles/test_processed/seung/log/directory/myexperiment/train/model.ckpt-5880\n",
            "2019-04-09 00:35:51.110568: I tensorflow/stream_executor/dso_loader.cc:152] successfully opened CUDA library libcublas.so.10.0 locally\n",
            "INFO:tensorflow:Wrote example 0 to file\n",
            "INFO:tensorflow:Wrote example 1 to file\n",
            "INFO:tensorflow:Wrote example 2 to file\n",
            "WARNING:tensorflow:Bucket input queue is empty when calling next_batch. Bucket queue size: 0, Input queue size: 0\n",
            "INFO:tensorflow:Finished reading dataset in single_pass mode.\n",
            "INFO:tensorflow:Decoder has finished reading dataset for single_pass.\n",
            "INFO:tensorflow:Output has been saved in /content/Drive/TS/TS/stanford-corenlp-full-2018-10-05/dataFiles/test_processed/seung/log/directory/myexperiment/decode_val_8maxenc_2beam_8mindec_3maxdec_ckpt-5880/reference and /content/Drive/TS/TS/stanford-corenlp-full-2018-10-05/dataFiles/test_processed/seung/log/directory/myexperiment/decode_val_8maxenc_2beam_8mindec_3maxdec_ckpt-5880/decoded. Now starting ROUGE eval...\n",
            "Traceback (most recent call last):\n",
            "  File \"run_summarization.py\", line 324, in <module>\n",
            "    tf.app.run()\n",
            "  File \"/usr/local/lib/python3.6/dist-packages/tensorflow/python/platform/app.py\", line 125, in run\n",
            "    _sys.exit(main(argv))\n",
            "  File \"run_summarization.py\", line 319, in main\n",
            "    decoder.decode() # decode indefinitely (unless single_pass=True, in which case deocde the dataset exactly once)\n",
            "  File \"/content/Drive/TScodes/seungwonpark/pointer-generator/decode.py\", line 88, in decode\n",
            "    results_dict = rouge_eval(self._rouge_ref_dir, self._rouge_dec_dir)\n",
            "  File \"/content/Drive/TScodes/seungwonpark/pointer-generator/decode.py\", line 213, in rouge_eval\n",
            "    r = pyrouge.Rouge155()\n",
            "  File \"/usr/local/lib/python3.6/dist-packages/pyrouge/Rouge155.py\", line 88, in __init__\n",
            "    self.__set_rouge_dir(rouge_dir)\n",
            "  File \"/usr/local/lib/python3.6/dist-packages/pyrouge/Rouge155.py\", line 402, in __set_rouge_dir\n",
            "    self._home_dir = self.__get_rouge_home_dir_from_settings()\n",
            "  File \"/usr/local/lib/python3.6/dist-packages/pyrouge/Rouge155.py\", line 416, in __get_rouge_home_dir_from_settings\n",
            "    with open(self._settings_file) as f:\n",
            "FileNotFoundError: [Errno 2] No such file or directory: '/root/.pyrouge/settings.ini'\n"
          ],
          "name": "stdout"
        }
      ]
    },
    {
      "metadata": {
        "id": "ZIURUeDGZ2dd",
        "colab_type": "code",
        "colab": {}
      },
      "cell_type": "code",
      "source": [
        "!pip install pyrouge"
      ],
      "execution_count": 0,
      "outputs": []
    },
    {
      "metadata": {
        "id": "rBV89Lt1gPNU",
        "colab_type": "code",
        "colab": {
          "base_uri": "https://localhost:8080/",
          "height": 34
        },
        "outputId": "323b8dd6-c6e6-4322-b9f5-61d3a7e46db2"
      },
      "cell_type": "code",
      "source": [
        "pwd"
      ],
      "execution_count": 4,
      "outputs": [
        {
          "output_type": "execute_result",
          "data": {
            "text/plain": [
              "'/content/Drive/TScodes/seungwonpark/pointer-generator'"
            ]
          },
          "metadata": {
            "tags": []
          },
          "execution_count": 4
        }
      ]
    },
    {
      "metadata": {
        "id": "_xB_YOEogm2f",
        "colab_type": "code",
        "colab": {}
      },
      "cell_type": "code",
      "source": [
        "!touch settings.ini"
      ],
      "execution_count": 0,
      "outputs": []
    },
    {
      "metadata": {
        "id": "BgnHAbAmgpTU",
        "colab_type": "code",
        "colab": {}
      },
      "cell_type": "code",
      "source": [
        "ls"
      ],
      "execution_count": 0,
      "outputs": []
    },
    {
      "metadata": {
        "id": "4sssZY5qgrR3",
        "colab_type": "code",
        "colab": {}
      },
      "cell_type": "code",
      "source": [
        ""
      ],
      "execution_count": 0,
      "outputs": []
    }
  ]
}