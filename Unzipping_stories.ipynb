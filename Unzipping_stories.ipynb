{
  "nbformat": 4,
  "nbformat_minor": 0,
  "metadata": {
    "colab": {
      "name": "Unzipping stories.ipynb",
      "version": "0.3.2",
      "provenance": [],
      "include_colab_link": true
    },
    "kernelspec": {
      "name": "python3",
      "display_name": "Python 3"
    },
    "accelerator": "GPU"
  },
  "cells": [
    {
      "cell_type": "markdown",
      "metadata": {
        "id": "view-in-github",
        "colab_type": "text"
      },
      "source": [
        "<a href=\"https://colab.research.google.com/github/Adhira-Deogade/TextSummarization_PointerGenerator/blob/master/Unzipping_stories.ipynb\" target=\"_parent\"><img src=\"https://colab.research.google.com/assets/colab-badge.svg\" alt=\"Open In Colab\"/></a>"
      ]
    },
    {
      "metadata": {
        "id": "7c6cc3kXO98f",
        "colab_type": "code",
        "colab": {
          "base_uri": "https://localhost:8080/",
          "height": 34
        },
        "outputId": "22c9b2f2-8af5-46cb-c1e7-311b2d6a3a9b"
      },
      "cell_type": "code",
      "source": [
        "ls"
      ],
      "execution_count": 1,
      "outputs": [
        {
          "output_type": "stream",
          "text": [
            "adc.json  \u001b[0m\u001b[01;34mDrive\u001b[0m/  \u001b[01;34mMy\u001b[0m/  \u001b[01;34msample_data\u001b[0m/\n"
          ],
          "name": "stdout"
        }
      ]
    },
    {
      "metadata": {
        "id": "QtLITzJyPGgo",
        "colab_type": "code",
        "colab": {
          "base_uri": "https://localhost:8080/",
          "height": 34
        },
        "outputId": "ee74a63d-f834-4af3-a596-165d7445dac1"
      },
      "cell_type": "code",
      "source": [
        "cd Drive/NLP\\ example\\ notebooks/"
      ],
      "execution_count": 2,
      "outputs": [
        {
          "output_type": "stream",
          "text": [
            "/content/Drive/NLP example notebooks\n"
          ],
          "name": "stdout"
        }
      ]
    },
    {
      "metadata": {
        "id": "hXeXBr8dPQrJ",
        "colab_type": "code",
        "colab": {
          "base_uri": "https://localhost:8080/",
          "height": 51
        },
        "outputId": "56446cd7-f531-40b0-a850-64a120f14ecb"
      },
      "cell_type": "code",
      "source": [
        "ls"
      ],
      "execution_count": 3,
      "outputs": [
        {
          "output_type": "stream",
          "text": [
            "cnn_stories.tgz  \u001b[0m\u001b[01;34mFinished_files\u001b[0m/     pretrained_model_tf1.2.1.zip\n",
            "\u001b[01;34md2l-en\u001b[0m/          finished_files.zip  \u001b[01;34mseungwonpark\u001b[0m/\n"
          ],
          "name": "stdout"
        }
      ]
    },
    {
      "metadata": {
        "id": "I7i6JAQBPcCs",
        "colab_type": "code",
        "colab": {}
      },
      "cell_type": "code",
      "source": [
        "!mkdir Stories"
      ],
      "execution_count": 0,
      "outputs": []
    },
    {
      "metadata": {
        "id": "AqUgHmS8PRAY",
        "colab_type": "code",
        "colab": {
          "base_uri": "https://localhost:8080/",
          "height": 595
        },
        "outputId": "8efb523c-583e-4d3f-aa10-0f58f6beb715"
      },
      "cell_type": "code",
      "source": [
        "!tar -xvzf cnn_stories.tgz"
      ],
      "execution_count": 9,
      "outputs": [
        {
          "output_type": "stream",
          "text": [
            "./cnn/stories/\n",
            "./cnn/stories/42c027e4ff9730fbb3de84c1af0d2c506e41c3e4.story\n",
            "./cnn/stories/ee8871b15c50d0db17b0179a6d2beab35065f1e9.story\n",
            "./cnn/stories/06352019a19ae31e527f37f7571c6dd7f0c5da37.story\n",
            "./cnn/stories/24521a2abb2e1f5e34e6824e0f9e56904a2b0e88.story\n",
            "./cnn/stories/7fe70cc8b12fab2d0a258fababf7d9c6b5e1262a.story\n",
            "./cnn/stories/a1ebb8bb4d370a1fdf28769206d572be60642d70.story\n",
            "./cnn/stories/7c0e61ac829a3b3b653e2e3e7536cc4881d1f264.story\n",
            "./cnn/stories/f0d73bdab711763e745cdc75850861c9018f235d.story\n",
            "./cnn/stories/5e22bbfc7232418b8d2dd646b952e404df5bd048.story\n",
            "./cnn/stories/613d6311ec2c1985bd44707d1796d275452fe156.story\n",
            "./cnn/stories/017d27d00eb43678c15cb4a8dd4723a035323219.story\n",
            "./cnn/stories/85f55a3e0dd672857aaaaa80954934a57b7a2fbf.story\n",
            "./cnn/stories/77d7c8cf2a9432e395d629371a12790c563c19f7.story\n",
            "./cnn/stories/35f0e33de7923036a97ac245d899f990bda5e242.story\n",
            "./cnn/stories/2ad31cae96512af5105b9b23f9b681dc732b2605.story\n",
            "./cnn/stories/0d43b97000ff852282c89d8d105e41495c0ee9bd.story\n",
            "./cnn/stories/bf0cd4ccacd4fe045995338f4c44d9cf18000226.story\n",
            "./cnn/stories/2f43e9dfaa43ffbddbce339a8b6403ddce43b38a.story\n",
            "./cnn/stories/eb68bc51ed4fc727a1af058192a3fef0916c91e7.story\n",
            "./cnn/stories/ad021a7924ee57491cee8576499ac196b1afeb23.story\n",
            "./cnn/stories/9d7fc7fd9ffbfecb1c458b9929fa02e6c3538368.story\n",
            "./cnn/stories/30cb674030b01014d2c87b92f09152857e249631.story\n",
            "./cnn/stories/d41dc7fc05273a37f0aceaf4f3e35a187f12653e.story\n",
            "./cnn/stories/fbc6a4d0697b2a3e8b549dcb1f80a8ce7bf47e34.story\n",
            "./cnn/stories/0753a471e6908c35bcbc2daa37e21f3a8443b590.story\n",
            "./cnn/stories/08450c1bc03472825196be1acb02ac0e13bef939.story\n",
            "./cnn/stories/7fa8d9beca50155fd3d71a9087a4311ce321c34b.story\n",
            "./cnn/stories/414a5b8ecbe189d2767c75b839775a1dcafaf4d3.story\n",
            "./cnn/stories/cac7a712935380d74410a7cba8d406235d51249a.story\n",
            "./cnn/stories/e9093ca0a82f2aba28cd2762942c04177cfbb000.story\n",
            "./cnn/stories/55a6aabd120f0b18297f7efe22452f9b3aca0d8d.story\n",
            "./cnn/stories/06bc2f0272d033b123e9eebbb221c62d7d51c283.story\n",
            "^C\n"
          ],
          "name": "stdout"
        }
      ]
    },
    {
      "metadata": {
        "id": "InDeRL2pPfzO",
        "colab_type": "code",
        "colab": {
          "base_uri": "https://localhost:8080/",
          "height": 51
        },
        "outputId": "9d931e66-f226-4d17-81b4-41f1a38f48f1"
      },
      "cell_type": "code",
      "source": [
        "ls"
      ],
      "execution_count": 10,
      "outputs": [
        {
          "output_type": "stream",
          "text": [
            "\u001b[0m\u001b[01;34mcnn\u001b[0m/             \u001b[01;34md2l-en\u001b[0m/          finished_files.zip            \u001b[01;34mseungwonpark\u001b[0m/\n",
            "cnn_stories.tgz  \u001b[01;34mFinished_files\u001b[0m/  pretrained_model_tf1.2.1.zip  \u001b[01;34mStories\u001b[0m/\n"
          ],
          "name": "stdout"
        }
      ]
    },
    {
      "metadata": {
        "id": "hbsTeXIbQ7vf",
        "colab_type": "code",
        "colab": {
          "base_uri": "https://localhost:8080/",
          "height": 34
        },
        "outputId": "e1368b48-19a4-4755-dbba-54ed0c0840ef"
      },
      "cell_type": "code",
      "source": [
        "cd cnn"
      ],
      "execution_count": 11,
      "outputs": [
        {
          "output_type": "stream",
          "text": [
            "/content/Drive/NLP example notebooks/cnn\n"
          ],
          "name": "stdout"
        }
      ]
    },
    {
      "metadata": {
        "id": "BYj9LXBrQ81v",
        "colab_type": "code",
        "colab": {
          "base_uri": "https://localhost:8080/",
          "height": 34
        },
        "outputId": "49d87e2e-2f4c-4494-848d-893d831d1ce8"
      },
      "cell_type": "code",
      "source": [
        "cd stories/"
      ],
      "execution_count": 12,
      "outputs": [
        {
          "output_type": "stream",
          "text": [
            "/content/Drive/NLP example notebooks/cnn/stories\n"
          ],
          "name": "stdout"
        }
      ]
    },
    {
      "metadata": {
        "id": "SYMVzkx6Q_Wb",
        "colab_type": "code",
        "colab": {
          "base_uri": "https://localhost:8080/",
          "height": 34
        },
        "outputId": "58e59c85-1d24-45d9-cae6-3c7812086f8f"
      },
      "cell_type": "code",
      "source": [
        "ls | wc"
      ],
      "execution_count": 15,
      "outputs": [
        {
          "output_type": "stream",
          "text": [
            "     32      32    1504\n"
          ],
          "name": "stdout"
        }
      ]
    },
    {
      "metadata": {
        "id": "ULuvEIEuRAFZ",
        "colab_type": "code",
        "colab": {}
      },
      "cell_type": "code",
      "source": [
        "### There are 32 stories extracted from tar file, now i will create a vocab out of this"
      ],
      "execution_count": 0,
      "outputs": []
    },
    {
      "metadata": {
        "id": "_rRbauL3RI9i",
        "colab_type": "code",
        "colab": {}
      },
      "cell_type": "code",
      "source": [
        ""
      ],
      "execution_count": 0,
      "outputs": []
    }
  ]
}